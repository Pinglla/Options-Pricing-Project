{
 "cells": [
  {
   "cell_type": "markdown",
   "id": "af66e2d8-87d0-430f-a189-38ebaec93f79",
   "metadata": {},
   "source": [
    "# DSO 530 Project: Final Prediction\n",
    "Group 49: Jessica Bratahani, Pin Hsuan Chang, Suhan Ho, Sheena Huang, Yunchi Lee"
   ]
  },
  {
   "cell_type": "code",
   "execution_count": 1,
   "id": "4632371c-4ac0-4d22-a834-504a18001bdb",
   "metadata": {},
   "outputs": [],
   "source": [
    "import numpy as np\n",
    "import pandas as pd\n",
    "import time\n",
    "import itertools\n",
    "import matplotlib.pyplot as plt\n",
    "import statsmodels.api as sm\n",
    "\n",
    "from sklearn.preprocessing import StandardScaler\n",
    "from sklearn.model_selection import KFold, StratifiedKFold\n",
    "from sklearn.ensemble import RandomForestRegressor,RandomForestClassifier\n",
    "\n",
    "from sklearn.model_selection import cross_val_score\n",
    "from sklearn.metrics import mean_squared_error\n",
    "from sklearn.metrics import r2_score\n",
    "from sklearn.metrics import accuracy_score\n",
    "\n",
    "import warnings\n",
    "warnings.filterwarnings('ignore')"
   ]
  },
  {
   "cell_type": "markdown",
   "id": "61b90122-63dd-4306-bf95-79723621d471",
   "metadata": {},
   "source": [
    "## Training and Test Data"
   ]
  },
  {
   "cell_type": "code",
   "execution_count": 2,
   "id": "5306f5ff-572e-42f3-8959-6f39d023fbae",
   "metadata": {},
   "outputs": [],
   "source": [
    "df_train=pd.read_csv('option_train.csv',index_col=0)\n",
    "\n",
    "#Drop Duplicates if Any:\n",
    "df_train = df_train.dropna()\n",
    "\n",
    "X_train = df_train[['S','K','tau','r']]\n",
    "y_train = df_train['Value']"
   ]
  },
  {
   "cell_type": "code",
   "execution_count": 3,
   "id": "7e8dbd68-dd3d-4e06-b9f1-1378e451a94e",
   "metadata": {},
   "outputs": [],
   "source": [
    "df_test=pd.read_csv('option_test_nolabel.csv',index_col=0)"
   ]
  },
  {
   "cell_type": "code",
   "execution_count": 4,
   "id": "64913072-8b20-4c22-bf9f-d0f399b43d30",
   "metadata": {},
   "outputs": [
    {
     "data": {
      "text/html": [
       "<div>\n",
       "<style scoped>\n",
       "    .dataframe tbody tr th:only-of-type {\n",
       "        vertical-align: middle;\n",
       "    }\n",
       "\n",
       "    .dataframe tbody tr th {\n",
       "        vertical-align: top;\n",
       "    }\n",
       "\n",
       "    .dataframe thead th {\n",
       "        text-align: right;\n",
       "    }\n",
       "</style>\n",
       "<table border=\"1\" class=\"dataframe\">\n",
       "  <thead>\n",
       "    <tr style=\"text-align: right;\">\n",
       "      <th></th>\n",
       "      <th>S</th>\n",
       "      <th>K</th>\n",
       "      <th>tau</th>\n",
       "      <th>r</th>\n",
       "    </tr>\n",
       "  </thead>\n",
       "  <tbody>\n",
       "    <tr>\n",
       "      <th>1</th>\n",
       "      <td>1409.28</td>\n",
       "      <td>1325</td>\n",
       "      <td>0.126027</td>\n",
       "      <td>0.0115</td>\n",
       "    </tr>\n",
       "    <tr>\n",
       "      <th>2</th>\n",
       "      <td>1505.97</td>\n",
       "      <td>1100</td>\n",
       "      <td>0.315068</td>\n",
       "      <td>0.0110</td>\n",
       "    </tr>\n",
       "    <tr>\n",
       "      <th>3</th>\n",
       "      <td>1409.57</td>\n",
       "      <td>1450</td>\n",
       "      <td>0.197260</td>\n",
       "      <td>0.0116</td>\n",
       "    </tr>\n",
       "    <tr>\n",
       "      <th>4</th>\n",
       "      <td>1407.81</td>\n",
       "      <td>1250</td>\n",
       "      <td>0.101370</td>\n",
       "      <td>0.0116</td>\n",
       "    </tr>\n",
       "    <tr>\n",
       "      <th>5</th>\n",
       "      <td>1494.50</td>\n",
       "      <td>1300</td>\n",
       "      <td>0.194521</td>\n",
       "      <td>0.0110</td>\n",
       "    </tr>\n",
       "  </tbody>\n",
       "</table>\n",
       "</div>"
      ],
      "text/plain": [
       "         S     K       tau       r\n",
       "1  1409.28  1325  0.126027  0.0115\n",
       "2  1505.97  1100  0.315068  0.0110\n",
       "3  1409.57  1450  0.197260  0.0116\n",
       "4  1407.81  1250  0.101370  0.0116\n",
       "5  1494.50  1300  0.194521  0.0110"
      ]
     },
     "execution_count": 4,
     "metadata": {},
     "output_type": "execute_result"
    }
   ],
   "source": [
    "df_test.head()"
   ]
  },
  {
   "cell_type": "markdown",
   "id": "a0b845a5-5ac8-4bb3-a216-a32e88142fc7",
   "metadata": {},
   "source": [
    "## Regression - Best Model: Random Forest Regressor"
   ]
  },
  {
   "cell_type": "code",
   "execution_count": 5,
   "id": "a3ab8acd-e82f-4a46-b7af-a621ac5a8d45",
   "metadata": {},
   "outputs": [],
   "source": [
    "scaler = StandardScaler()\n",
    "X_train_scaled = scaler.fit_transform(df_train[['S','K','tau','r']])\n",
    "X_test_scaled = scaler.transform(df_test[['S','K','tau','r']])"
   ]
  },
  {
   "cell_type": "code",
   "execution_count": 6,
   "id": "6f366723-712d-4cea-9213-0b1d0204d124",
   "metadata": {},
   "outputs": [],
   "source": [
    "def kfolds_cv_regression(regressor, kfolds, x_train, y_train):\n",
    "    kfolds_regression = KFold(n_splits = kfolds, random_state = 1, shuffle = True)\n",
    "    r2_model_1_cv = cross_val_score(regressor, x_train, y_train, cv=kfolds_regression)    \n",
    "    neg_mse_model_1_cv = cross_val_score(regressor, x_train, y_train, cv=kfolds_regression,scoring = 'neg_mean_squared_error')\n",
    "    return np.mean(r2_model_1_cv), -np.mean(neg_mse_model_1_cv)"
   ]
  },
  {
   "cell_type": "code",
   "execution_count": 7,
   "id": "e870fc02-6543-416c-a53b-fecf5061197c",
   "metadata": {},
   "outputs": [
    {
     "name": "stdout",
     "output_type": "stream",
     "text": [
      "Model: RandomForestRegressor KFolds: 5  Mean R Squared: 0.9965151303907671  Mean MSE: 54.397492430605475\n"
     ]
    }
   ],
   "source": [
    "regressor=RandomForestRegressor(random_state=0, oob_score=True)\n",
    "KFolds=5\n",
    "mean_r2, mean_mse=kfolds_cv_regression(regressor, KFolds, X_train_scaled, y_train)\n",
    "print('Model:', type(regressor).__name__, 'KFolds:',KFolds,' Mean R Squared:', mean_r2,' Mean MSE:', mean_mse)"
   ]
  },
  {
   "cell_type": "code",
   "execution_count": 8,
   "id": "4c74ef59-4fc5-4c4e-9549-7d3b4391e60c",
   "metadata": {},
   "outputs": [],
   "source": [
    "final_regressor=RandomForestRegressor(random_state=0, oob_score=True)\n",
    "\n",
    "# fit the final regressor with X_train_scaled and Y_train data \n",
    "final_regressor.fit(X_train_scaled, y_train)\n",
    "\n",
    "# Predicting the target values of the test set\n",
    "y_pred = final_regressor.predict(X_test_scaled)"
   ]
  },
  {
   "cell_type": "code",
   "execution_count": 9,
   "id": "9526bdb6-3711-48e7-882d-4cc649150846",
   "metadata": {},
   "outputs": [],
   "source": [
    "# Create new dataframe to store our predicted values\n",
    "df_prediction = pd.DataFrame(y_pred, columns=['Value'])\n",
    "df_prediction.index = range(1, len(df_prediction)+1)"
   ]
  },
  {
   "cell_type": "markdown",
   "id": "576d507e-f4c0-4fae-8249-b90862055046",
   "metadata": {},
   "source": [
    "## Classification - Best Model: Random Forest Regressor"
   ]
  },
  {
   "cell_type": "code",
   "execution_count": 10,
   "id": "aa6065b2-e156-421a-a0c8-1f074c8465a5",
   "metadata": {},
   "outputs": [
    {
     "data": {
      "text/html": [
       "<div>\n",
       "<style scoped>\n",
       "    .dataframe tbody tr th:only-of-type {\n",
       "        vertical-align: middle;\n",
       "    }\n",
       "\n",
       "    .dataframe tbody tr th {\n",
       "        vertical-align: top;\n",
       "    }\n",
       "\n",
       "    .dataframe thead th {\n",
       "        text-align: right;\n",
       "    }\n",
       "</style>\n",
       "<table border=\"1\" class=\"dataframe\">\n",
       "  <thead>\n",
       "    <tr style=\"text-align: right;\">\n",
       "      <th></th>\n",
       "      <th>Value</th>\n",
       "      <th>S</th>\n",
       "      <th>K</th>\n",
       "      <th>tau</th>\n",
       "      <th>r</th>\n",
       "      <th>BS</th>\n",
       "    </tr>\n",
       "  </thead>\n",
       "  <tbody>\n",
       "    <tr>\n",
       "      <th>1</th>\n",
       "      <td>348.500</td>\n",
       "      <td>1394.46</td>\n",
       "      <td>1050</td>\n",
       "      <td>0.128767</td>\n",
       "      <td>0.0116</td>\n",
       "      <td>Under</td>\n",
       "    </tr>\n",
       "    <tr>\n",
       "      <th>2</th>\n",
       "      <td>149.375</td>\n",
       "      <td>1432.25</td>\n",
       "      <td>1400</td>\n",
       "      <td>0.679452</td>\n",
       "      <td>0.0113</td>\n",
       "      <td>Under</td>\n",
       "    </tr>\n",
       "    <tr>\n",
       "      <th>3</th>\n",
       "      <td>294.500</td>\n",
       "      <td>1478.90</td>\n",
       "      <td>1225</td>\n",
       "      <td>0.443836</td>\n",
       "      <td>0.0112</td>\n",
       "      <td>Under</td>\n",
       "    </tr>\n",
       "    <tr>\n",
       "      <th>4</th>\n",
       "      <td>3.375</td>\n",
       "      <td>1369.89</td>\n",
       "      <td>1500</td>\n",
       "      <td>0.117808</td>\n",
       "      <td>0.0119</td>\n",
       "      <td>Over</td>\n",
       "    </tr>\n",
       "    <tr>\n",
       "      <th>5</th>\n",
       "      <td>84.000</td>\n",
       "      <td>1366.42</td>\n",
       "      <td>1350</td>\n",
       "      <td>0.298630</td>\n",
       "      <td>0.0119</td>\n",
       "      <td>Under</td>\n",
       "    </tr>\n",
       "  </tbody>\n",
       "</table>\n",
       "</div>"
      ],
      "text/plain": [
       "     Value        S     K       tau       r     BS\n",
       "1  348.500  1394.46  1050  0.128767  0.0116  Under\n",
       "2  149.375  1432.25  1400  0.679452  0.0113  Under\n",
       "3  294.500  1478.90  1225  0.443836  0.0112  Under\n",
       "4    3.375  1369.89  1500  0.117808  0.0119   Over\n",
       "5   84.000  1366.42  1350  0.298630  0.0119  Under"
      ]
     },
     "execution_count": 10,
     "metadata": {},
     "output_type": "execute_result"
    }
   ],
   "source": [
    "df_train.head()"
   ]
  },
  {
   "cell_type": "code",
   "execution_count": 11,
   "id": "609633d8-cba4-475a-8ea2-55bdfedb594e",
   "metadata": {},
   "outputs": [],
   "source": [
    "df_train['BS_class'] = df_train['BS'].map({'Under': 0, 'Over': 1})\n",
    "y_train_BS = df_train['BS_class']"
   ]
  },
  {
   "cell_type": "code",
   "execution_count": 12,
   "id": "45632f42-bead-4550-8fd8-8228266b40f5",
   "metadata": {},
   "outputs": [
    {
     "name": "stdout",
     "output_type": "stream",
     "text": [
      "Random Forest mean accuracy: 0.9366\n",
      "Random Forest standard deviation of accuracy: 0.0096\n"
     ]
    }
   ],
   "source": [
    "# Initialize the StratifiedKFold object\n",
    "kfolds = StratifiedKFold(n_splits=10, shuffle=True, random_state=1)\n",
    "accuracies_rd = []\n",
    "\n",
    "# Cross-validation loop\n",
    "for train_index, test_index in kfolds.split(X_train, y_train_BS):\n",
    "    clf_rf = RandomForestClassifier(random_state=1, n_estimators=200)\n",
    "    clf_rf.fit(X_train.iloc[train_index], y_train_BS.iloc[train_index])  # Train on the fold's training part\n",
    "    y_pred_rf = clf_rf.predict(X_train.iloc[test_index])  # Predict on the fold's testing part\n",
    "    score = accuracy_score(y_train_BS.iloc[test_index], y_pred_rf)  # Calculate accuracy\n",
    "    accuracies_rd.append(score)\n",
    "\n",
    "# Calculate mean and standard deviation of accuracies\n",
    "mean_accuracy_rf = sum(accuracies_rd) / len(accuracies_rd)\n",
    "std_accuracy_rf = np.std(accuracies_rd)\n",
    "\n",
    "print(f\"Random Forest mean accuracy: {mean_accuracy_rf:.4f}\")\n",
    "print(f\"Random Forest standard deviation of accuracy: {std_accuracy_rf:.4f}\")"
   ]
  },
  {
   "cell_type": "code",
   "execution_count": 13,
   "id": "db1fe2b2-0b43-48bf-93a8-147ccd3bc028",
   "metadata": {},
   "outputs": [],
   "source": [
    "final_classifier=RandomForestClassifier(random_state=1, n_estimators=200)\n",
    "\n",
    "# fit the final regressor with X_train and Y_train data \n",
    "final_classifier.fit(X_train, y_train_BS)\n",
    "\n",
    "X_test = df_test[['S','K','tau','r']]\n",
    "# Predicting the target values of the test set\n",
    "y_pred_BS = final_classifier.predict(X_test)"
   ]
  },
  {
   "cell_type": "code",
   "execution_count": 14,
   "id": "60392094-8d84-4164-ba15-6b9dcba8ea9c",
   "metadata": {},
   "outputs": [],
   "source": [
    "df_prediction['BS'] = y_pred_BS.tolist()"
   ]
  },
  {
   "cell_type": "code",
   "execution_count": 15,
   "id": "747430b3-00c1-45fc-a741-6feede0abf38",
   "metadata": {},
   "outputs": [
    {
     "data": {
      "text/html": [
       "<div>\n",
       "<style scoped>\n",
       "    .dataframe tbody tr th:only-of-type {\n",
       "        vertical-align: middle;\n",
       "    }\n",
       "\n",
       "    .dataframe tbody tr th {\n",
       "        vertical-align: top;\n",
       "    }\n",
       "\n",
       "    .dataframe thead th {\n",
       "        text-align: right;\n",
       "    }\n",
       "</style>\n",
       "<table border=\"1\" class=\"dataframe\">\n",
       "  <thead>\n",
       "    <tr style=\"text-align: right;\">\n",
       "      <th></th>\n",
       "      <th>Value</th>\n",
       "      <th>BS</th>\n",
       "    </tr>\n",
       "  </thead>\n",
       "  <tbody>\n",
       "    <tr>\n",
       "      <th>494</th>\n",
       "      <td>50.96000</td>\n",
       "      <td>1</td>\n",
       "    </tr>\n",
       "    <tr>\n",
       "      <th>101</th>\n",
       "      <td>97.50375</td>\n",
       "      <td>0</td>\n",
       "    </tr>\n",
       "    <tr>\n",
       "      <th>18</th>\n",
       "      <td>45.57625</td>\n",
       "      <td>0</td>\n",
       "    </tr>\n",
       "    <tr>\n",
       "      <th>246</th>\n",
       "      <td>25.13125</td>\n",
       "      <td>0</td>\n",
       "    </tr>\n",
       "    <tr>\n",
       "      <th>60</th>\n",
       "      <td>28.88000</td>\n",
       "      <td>0</td>\n",
       "    </tr>\n",
       "  </tbody>\n",
       "</table>\n",
       "</div>"
      ],
      "text/plain": [
       "        Value  BS\n",
       "494  50.96000   1\n",
       "101  97.50375   0\n",
       "18   45.57625   0\n",
       "246  25.13125   0\n",
       "60   28.88000   0"
      ]
     },
     "execution_count": 15,
     "metadata": {},
     "output_type": "execute_result"
    }
   ],
   "source": [
    "df_prediction.sample(5)"
   ]
  },
  {
   "cell_type": "code",
   "execution_count": 16,
   "id": "898efdb9-f58b-44d6-a1e1-11b22566f218",
   "metadata": {},
   "outputs": [
    {
     "data": {
      "text/plain": [
       "BS\n",
       "0    0.788\n",
       "1    0.212\n",
       "Name: proportion, dtype: float64"
      ]
     },
     "execution_count": 16,
     "metadata": {},
     "output_type": "execute_result"
    }
   ],
   "source": [
    "df_prediction['BS'].value_counts(normalize=True)"
   ]
  },
  {
   "cell_type": "code",
   "execution_count": 17,
   "id": "3fe461e1-e711-4099-9ba3-1419307bf9c2",
   "metadata": {},
   "outputs": [
    {
     "data": {
      "text/plain": [
       "BS_class\n",
       "0    0.7736\n",
       "1    0.2264\n",
       "Name: proportion, dtype: float64"
      ]
     },
     "execution_count": 17,
     "metadata": {},
     "output_type": "execute_result"
    }
   ],
   "source": [
    "df_train['BS_class'].value_counts(normalize=True)"
   ]
  },
  {
   "cell_type": "code",
   "execution_count": 18,
   "id": "74492203-37c8-4f8b-bae1-b93c3826c123",
   "metadata": {},
   "outputs": [],
   "source": [
    "# save file to .csv for submission\n",
    "df_prediction.to_csv('group_49_prediction.csv',index = False)"
   ]
  },
  {
   "cell_type": "code",
   "execution_count": null,
   "id": "97d35609-f1dd-4526-97ea-763ca138ee08",
   "metadata": {},
   "outputs": [],
   "source": []
  }
 ],
 "metadata": {
  "kernelspec": {
   "display_name": "Python 3 (ipykernel)",
   "language": "python",
   "name": "python3"
  },
  "language_info": {
   "codemirror_mode": {
    "name": "ipython",
    "version": 3
   },
   "file_extension": ".py",
   "mimetype": "text/x-python",
   "name": "python",
   "nbconvert_exporter": "python",
   "pygments_lexer": "ipython3",
   "version": "3.10.13"
  }
 },
 "nbformat": 4,
 "nbformat_minor": 5
}
